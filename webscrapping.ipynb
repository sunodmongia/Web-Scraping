{
 "cells": [
  {
   "cell_type": "code",
   "execution_count": 48,
   "metadata": {},
   "outputs": [],
   "source": [
    "from bs4 import BeautifulSoup\n",
    "import requests\n",
    "import csv\n",
    "\n",
    "source = requests.get('https://www.saintdrmsginsan.me/social-media/').text\n",
    "\n",
    "soup = BeautifulSoup(source, 'lxml')\n",
    "\n",
    "# csv_file = open('cms_scrape.csv', 'w')\n",
    "with open('clone.html', 'w', encoding='utf-8') as file:\n",
    "    file.write(soup.prettify())\n",
    "\n",
    "# csv_writer = csv.writer(csv_file)\n",
    "# csv_writer.writerow(['soup'])\n",
    "\n",
    "# print(soup.prettify())\n",
    "\n",
    "# csv_writer.writerow([soup])\n",
    "# csv_file.close()\n"
   ]
  },
  {
   "cell_type": "code",
   "execution_count": 49,
   "metadata": {},
   "outputs": [
    {
     "name": "stdout",
     "output_type": "stream",
     "text": [
      "Website HTML content saved as website_content\\index.html\n",
      "CSS file saved as website_content\\bootstrap.min.css\n",
      "CSS file saved as website_content\\slick.min.css\n",
      "CSS file saved as website_content\\style.css\n",
      "CSS file saved as website_content\\style-2.css\n"
     ]
    }
   ],
   "source": [
    "import requests\n",
    "from bs4 import BeautifulSoup\n",
    "from urllib.parse import urljoin\n",
    "\n",
    "# Send a GET request to the website\n",
    "url = 'https://www.saintdrmsginsan.me/social-media/' # Replace with the URL of the website you want to scrape\n",
    "response = requests.get(url)\n",
    "\n",
    "# Parse the HTML content of the website\n",
    "soup = BeautifulSoup(response.content, 'html.parser')\n",
    "\n",
    "# Extract the links to CSS files from the HTML\n",
    "css_links = [urljoin(url, link['href']) for link in soup.find_all('link', rel='stylesheet')]\n",
    "\n",
    "# Specify the folder to save the website content\n",
    "folder_path = \"website_content\"\n",
    "\n",
    "# Create the folder if it doesn't exist\n",
    "import os\n",
    "os.makedirs(folder_path, exist_ok=True)\n",
    "\n",
    "# Save the HTML content\n",
    "html_file_path = os.path.join(folder_path, \"index.html\")\n",
    "with open(html_file_path, 'w', encoding='utf-8') as file:\n",
    "    file.write(response.text)\n",
    "\n",
    "print(f\"Website HTML content saved as {html_file_path}\")\n",
    "\n",
    "# Download and save the CSS files\n",
    "for css_link in css_links:\n",
    "    css_response = requests.get(css_link)\n",
    "    css_file_path = os.path.join(folder_path, os.path.basename(css_link))\n",
    "    with open(css_file_path, 'w', encoding='utf-8') as file:\n",
    "        file.write(css_response.text)\n",
    "    print(f\"CSS file saved as {css_file_path}\")"
   ]
  }
 ],
 "metadata": {
  "kernelspec": {
   "display_name": "Python 3",
   "language": "python",
   "name": "python3"
  },
  "language_info": {
   "codemirror_mode": {
    "name": "ipython",
    "version": 3
   },
   "file_extension": ".py",
   "mimetype": "text/x-python",
   "name": "python",
   "nbconvert_exporter": "python",
   "pygments_lexer": "ipython3",
   "version": "3.12.0"
  }
 },
 "nbformat": 4,
 "nbformat_minor": 2
}
